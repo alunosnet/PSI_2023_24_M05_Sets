{
 "cells": [
  {
   "cell_type": "markdown",
   "metadata": {},
   "source": [
    "# Sets"
   ]
  },
  {
   "cell_type": "markdown",
   "metadata": {},
   "source": [
    "Sets em Python são coleções não ordenadas de elementos únicos. Eles são usados quando a presença de um item na coleção é mais importante do que a ordem ou quantas vezes ele aparece. Utilizando sets, é possível realizar operações matemáticas de conjuntos como união, interseção, diferença, e diferença simétrica."
   ]
  },
  {
   "cell_type": "markdown",
   "metadata": {},
   "source": [
    "# Caraterísticas dos Sets\n",
    "- Únicos: Os sets automaticamente removem duplicados. Se adicionar o mesmo item mais de uma vez ao set, ele aparecerá na coleção apenas uma vez.\n",
    "- Não ordenados: Os itens em um set não têm uma ordem fixa; não pode esperar que eles apareçam na mesma ordem em que foram adicionados.\n",
    "- Mutáveis: pode adicionar ou remover itens de um set depois de sua criação.\n",
    "- Elementos imutáveis: Os elementos que adiciona a um set precisam ser imutáveis (como números, strings, e tuplas) porque os sets precisam de uma forma de garantir a unicidade dos seus elementos. Tipos mutáveis como listas não podem ser adicionados a um set. Os elementos não têm de ser todos do mesmo tipo\n"
   ]
  },
  {
   "cell_type": "markdown",
   "metadata": {},
   "source": [
    "### Definir e adicionar"
   ]
  },
  {
   "cell_type": "code",
   "execution_count": null,
   "metadata": {},
   "outputs": [],
   "source": [
    "meu_set={1,2,3,4,5}\n",
    "print(meu_set)\n",
    "\n",
    "#adicionar\n",
    "meu_set.add(6)\n",
    "print(meu_set)\n",
    "\n",
    "meu_set.add(\"maria\")\n",
    "print(meu_set)\n",
    "\n",
    "#elemento duplicado\n",
    "meu_set.add(1)\n",
    "print(meu_set)"
   ]
  },
  {
   "cell_type": "markdown",
   "metadata": {},
   "source": [
    "### Remover um elemento"
   ]
  },
  {
   "cell_type": "code",
   "execution_count": null,
   "metadata": {},
   "outputs": [],
   "source": [
    "meu_set={1,2,3,4,5}\n",
    "\n",
    "meu_set.remove(3)\n",
    "print(meu_set)"
   ]
  },
  {
   "cell_type": "markdown",
   "metadata": {},
   "source": [
    "### Listar"
   ]
  },
  {
   "cell_type": "code",
   "execution_count": null,
   "metadata": {},
   "outputs": [],
   "source": [
    "meu_set={1,2,3,4}\n",
    "for x in meu_set:\n",
    "    print(x)\n",
    "\n",
    "#este código não funciona\n",
    "#for i in range(len(meu_set)):\n",
    "    #print(meu_set[i]) #não podemos fazer isto com sets\n",
    "\n",
    "for posicao, valor in enumerate(meu_set,start=1):\n",
    "    print(f\"Elemento da posição {posicao}: {valor}\")"
   ]
  },
  {
   "cell_type": "markdown",
   "metadata": {},
   "source": [
    "### Função enumerate"
   ]
  },
  {
   "cell_type": "markdown",
   "metadata": {},
   "source": [
    "A função <b>enumerate()</b> pode ser utilizada com outro tipos de coleções"
   ]
  },
  {
   "cell_type": "markdown",
   "metadata": {},
   "source": [
    "### Listas"
   ]
  },
  {
   "cell_type": "code",
   "execution_count": null,
   "metadata": {},
   "outputs": [],
   "source": [
    "lista = ['maçã', 'banana', 'cereja']\n",
    "for indice, valor in enumerate(lista, start=0):\n",
    "    print(indice, valor)"
   ]
  },
  {
   "cell_type": "markdown",
   "metadata": {},
   "source": [
    "### Tuplos"
   ]
  },
  {
   "cell_type": "code",
   "execution_count": null,
   "metadata": {},
   "outputs": [],
   "source": [
    "tupla = ('a', 'b', 'c')\n",
    "for indice, valor in enumerate(tupla, start=1):\n",
    "    print(indice, valor)\n"
   ]
  },
  {
   "cell_type": "markdown",
   "metadata": {},
   "source": [
    "### Strings"
   ]
  },
  {
   "cell_type": "code",
   "execution_count": null,
   "metadata": {},
   "outputs": [],
   "source": [
    "string = \"olá\"\n",
    "for indice, valor in enumerate(string, start=0):\n",
    "    print(indice, valor)\n"
   ]
  },
  {
   "cell_type": "markdown",
   "metadata": {},
   "source": [
    "### Dicionários"
   ]
  },
  {
   "cell_type": "code",
   "execution_count": null,
   "metadata": {},
   "outputs": [],
   "source": [
    "dicionario = {'a': 1, 'b': 2, 'c': 3}\n",
    "for indice, (chave, valor) in enumerate(dicionario.items(), start=1):\n",
    "    print(indice, chave, valor)\n"
   ]
  },
  {
   "cell_type": "markdown",
   "metadata": {},
   "source": [
    "### Operações de conjuntos"
   ]
  },
  {
   "cell_type": "code",
   "execution_count": null,
   "metadata": {},
   "outputs": [],
   "source": [
    "meu_set={1,2,3,4,5}\n",
    "outro_set={4,5,6,7,8}"
   ]
  },
  {
   "cell_type": "markdown",
   "metadata": {},
   "source": [
    "### União"
   ]
  },
  {
   "cell_type": "code",
   "execution_count": null,
   "metadata": {},
   "outputs": [],
   "source": [
    "#União\n",
    "uniao=meu_set.union(outro_set)\n",
    "print(uniao)"
   ]
  },
  {
   "cell_type": "markdown",
   "metadata": {},
   "source": [
    "### Interseção"
   ]
  },
  {
   "cell_type": "code",
   "execution_count": null,
   "metadata": {},
   "outputs": [],
   "source": [
    "intersecao = meu_set.intersection(outro_set)\n",
    "print(intersecao)"
   ]
  },
  {
   "cell_type": "markdown",
   "metadata": {},
   "source": [
    "### Diferença"
   ]
  },
  {
   "cell_type": "code",
   "execution_count": null,
   "metadata": {},
   "outputs": [],
   "source": [
    "diferenca = meu_set.difference(outro_set)\n",
    "print(diferenca)"
   ]
  },
  {
   "cell_type": "markdown",
   "metadata": {},
   "source": [
    "### Diferença simétrica"
   ]
  },
  {
   "cell_type": "code",
   "execution_count": null,
   "metadata": {},
   "outputs": [],
   "source": [
    "diferenca_simetrica = meu_set.symmetric_difference(outro_set)\n",
    "print(diferenca_simetrica)"
   ]
  }
 ],
 "metadata": {
  "kernelspec": {
   "display_name": "Python 3",
   "language": "python",
   "name": "python3"
  },
  "language_info": {
   "codemirror_mode": {
    "name": "ipython",
    "version": 3
   },
   "file_extension": ".py",
   "mimetype": "text/x-python",
   "name": "python",
   "nbconvert_exporter": "python",
   "pygments_lexer": "ipython3",
   "version": "3.12.2"
  }
 },
 "nbformat": 4,
 "nbformat_minor": 2
}
